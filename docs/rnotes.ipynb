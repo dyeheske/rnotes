{
 "cells": [
  {
   "attachments": {},
   "cell_type": "markdown",
   "metadata": {},
   "source": [
    "<center>\n",
    "<img src=\"https://user-images.githubusercontent.com/89130737/233078351-bb8134ec-0d1f-495f-a8c0-751e270a7ec0.png\" width=250 height=100/>\n",
    "</center>\n",
    "<h2 align=\"center\">Auto generate release notes from GitHub</h2>"
   ]
  },
  {
   "attachments": {},
   "cell_type": "markdown",
   "metadata": {},
   "source": [
    "##### This notebook generates a release notes by the given repository name, *from*/*to* tags and allows you to preview and store the generated release notes. Note that in order to generate release notes, you **must** have a personal access token (a.k.a PAT), and if you don't have yet you can see how to do it [here](https://docs.github.com/en/authentication/keeping-your-account-and-data-secure/creating-a-personal-access-token#creating-a-personal-access-token-classic)."
   ]
  },
  {
   "attachments": {},
   "cell_type": "markdown",
   "metadata": {},
   "source": [
    "### Set environment"
   ]
  },
  {
   "attachments": {},
   "cell_type": "markdown",
   "metadata": {},
   "source": [
    "##### Insert your GitHub Token"
   ]
  },
  {
   "cell_type": "code",
   "execution_count": null,
   "metadata": {},
   "outputs": [],
   "source": [
    "# Enter GitHub token ...\n",
    "import getpass\n",
    "import os\n",
    "\n",
    "if (token := os.environ.get(\"GITHUB_TOKEN\")) is None:\n",
    "    token = getpass.getpass(prompt=\"Enter your GitHub token: \")\n",
    "    os.environ[\"GITHUB_TOKEN\"] = token"
   ]
  },
  {
   "attachments": {},
   "cell_type": "markdown",
   "metadata": {},
   "source": [
    "##### Install requirements"
   ]
  },
  {
   "cell_type": "code",
   "execution_count": null,
   "metadata": {},
   "outputs": [],
   "source": [
    "# Clone repo and install requirements ...\n",
    "from tempfile import mkdtemp\n",
    "\n",
    "if \"rnotes/docs\" not in os.getcwd():\n",
    "    tmp_dir = mkdtemp()\n",
    "    %cd {tmp_dir}\n",
    "    !git clone https://{token}@github.com/dyeheske/rnotes.git\n",
    "    %cd rnotes\n",
    "    %pip install -q -r ./docs/requirements.txt\n",
    "else:\n",
    "    os.chdir(\"../\")"
   ]
  },
  {
   "attachments": {},
   "cell_type": "markdown",
   "metadata": {},
   "source": [
    "##### Set imports"
   ]
  },
  {
   "cell_type": "code",
   "execution_count": null,
   "metadata": {},
   "outputs": [],
   "source": [
    "# Imports ...\n",
    "import sys\n",
    "import os\n",
    "import markdown\n",
    "import webbrowser\n",
    "from pathlib import Path\n",
    "from tempfile import mkdtemp\n",
    "from IPython.display import Markdown, clear_output\n",
    "import ipywidgets as widgets\n",
    "import tkinter as tk\n",
    "from tkinter import filedialog\n",
    "from rich.console import Console\n",
    "from rich.text import Text\n",
    "import pkgutil\n",
    "\n",
    "\n",
    "sys.path.insert(0, \".\")\n",
    "from rnotes.query import get_github_repository\n",
    "from rnotes.rnotes import generate_release_notes\n",
    "from rnotes.utils import init_log, get_file_name\n",
    "\n",
    "log_path = Path(\"rnotes.log\")\n",
    "init_log(log_path, level=\"INFO\")"
   ]
  },
  {
   "attachments": {},
   "cell_type": "markdown",
   "metadata": {},
   "source": [
    "##### Define functions"
   ]
  },
  {
   "cell_type": "code",
   "execution_count": null,
   "metadata": {},
   "outputs": [],
   "source": [
    "# Function definitions ...\n",
    "console = Console(force_jupyter=True)\n",
    "\n",
    "try:\n",
    "    assert pkgutil.find_loader('google.colab') is not None\n",
    "    def download(path: Path) -> None:\n",
    "        from google.colab import files\n",
    "        files.download(path.resolve())\n",
    "except:\n",
    "    def download(path: Path) -> None:\n",
    "        if \"DISPLAY\" not in os.environ:\n",
    "            console.log(\"⚠️ Unable to open the browser in this platform (maybe you are using remote ssh ?)\")\n",
    "            return\n",
    "        button = widgets.Button(description=\"Download\")\n",
    "        def on_button_clicked(value):\n",
    "            root = tk.Tk()\n",
    "            root.withdraw()\n",
    "            output_dir = Path(filedialog.askdirectory())\n",
    "            out_path = output_dir / path.name\n",
    "            out_path.write_text(path.read_text())\n",
    "            print(f\"Downloaded to: {out_path.resolve()}\")\n",
    "        button.on_click(on_button_clicked)\n",
    "        display(button)\n",
    "\n",
    "\n",
    "def run_button(repository: str, from_tag: str, to_tag: str, output_dir: Path, file_name: str) -> None:\n",
    "    button = widgets.Button(description=\"Run\")\n",
    "    def on_button_clicked(value):\n",
    "        with console.status(\"[bold green]Generating release notes ...\") as status:\n",
    "            try:\n",
    "                generate_release_notes(\n",
    "                    repository_name=repository,\n",
    "                    from_tag=from_tag,\n",
    "                    to_tag=to_tag,\n",
    "                    output_dir=output_dir,\n",
    "                    file_name=file_name,\n",
    "                )\n",
    "                console.print(Text(\"\\N{WHITE HEAVY CHECK MARK} Successfully written release notes.\"))\n",
    "            except:\n",
    "                console.print(Text(\"\\N{CROSS MARK} Failed to generate release notes.\"))\n",
    "                download(log_path)\n",
    "    button.on_click(on_button_clicked)\n",
    "    display(button)\n",
    "\n",
    "\n",
    "def open_in_browser_button(path: Path) -> None:\n",
    "    if \"DISPLAY\" not in os.environ:\n",
    "        console.log(\"⚠️ Unable to open the browser in this platform (maybe you are using remote ssh ?)\")\n",
    "        return\n",
    "    button = widgets.Button(description=\"Open in browser\")\n",
    "    def on_button_clicked(value):\n",
    "        default_browser = webbrowser.get().name\n",
    "        available_browser = webbrowser.get(default_browser)\n",
    "        available_browser.open_new_tab(path)\n",
    "    button.on_click(on_button_clicked)\n",
    "    display(button)\n",
    "\n",
    "\n",
    "def display_file(path: Path) -> None:\n",
    "    button = widgets.Button(description=\"Display\")\n",
    "    def on_button_clicked(value):\n",
    "        if button.description == \"Display\":\n",
    "            if path.suffix == \".md\":\n",
    "                display(Markdown((path).read_text()))\n",
    "            else:\n",
    "                display(Text(path.read_text()))\n",
    "            button.description = \"Clear\"\n",
    "        else:\n",
    "            button.description = \"Display\"\n",
    "            clear_output(wait=False)\n",
    "            display(button)\n",
    "    button.on_click(on_button_clicked)\n",
    "    display(button)\n",
    "\n",
    "\n",
    "def to_html(path: Path, suffix: str = \"\") -> Path:\n",
    "    html_file_path = None\n",
    "    content = path.read_text()\n",
    "    if path.suffix == \".md\":\n",
    "        html_content = markdown.markdown(content)\n",
    "    else:\n",
    "        str_path = str(path.resolve())\n",
    "        html_content = '<html>\\n<head>\\n<title>' + str_path + '</title>\\n</head>\\n<body>\\n<pre>\\n'\n",
    "        html_content += content.replace('<', '&lt;').replace('>', '&gt;')\n",
    "        html_content += '\\n</pre>\\n</body>\\n</html>'\n",
    "    html_file_path = Path(os.path.splitext(str_path)[0] + f\"{suffix}.html\")\n",
    "    html_file_path.write_text(html_content)\n",
    "    return html_file_path\n"
   ]
  },
  {
   "attachments": {},
   "cell_type": "markdown",
   "metadata": {},
   "source": [
    "### Set arguments to rnotes"
   ]
  },
  {
   "cell_type": "code",
   "execution_count": null,
   "metadata": {},
   "outputs": [],
   "source": [
    "# GitHub repository\n",
    "repository_name = widgets.Combobox(description='Repository:', placeholder='owner/repository', value=\"dyeheske/dummy_tool\")\n",
    "display(repository_name)"
   ]
  },
  {
   "cell_type": "code",
   "execution_count": null,
   "metadata": {},
   "outputs": [],
   "source": [
    "# Choose tags:\n",
    "repository = get_github_repository(repository_name=repository_name.value)\n",
    "tag_names = sorted(repository.tags)\n",
    "from_tag = widgets.Dropdown(options=tag_names, description='From tag:')\n",
    "to_tag = widgets.Dropdown(options=tag_names, description='To tag:', value=\"v0.2\" if repository_name.value == \"dyeheske/dummy_tool\" else None)\n",
    "display(from_tag)\n",
    "display(to_tag)"
   ]
  },
  {
   "attachments": {},
   "cell_type": "markdown",
   "metadata": {},
   "source": [
    "### Run:"
   ]
  },
  {
   "cell_type": "code",
   "execution_count": null,
   "metadata": {},
   "outputs": [],
   "source": [
    "# Run ...\n",
    "output_dir = Path(mkdtemp())\n",
    "file_name = get_file_name(tool_name=repository_name.value.split(\"/\")[1], version_name=to_tag.value, sfx=\".md\")\n",
    "run_button(repository=repository_name.value, from_tag=from_tag.value, to_tag=to_tag.value, output_dir=output_dir, file_name=file_name)\n",
    "result_path = output_dir / file_name"
   ]
  },
  {
   "attachments": {},
   "cell_type": "markdown",
   "metadata": {},
   "source": [
    "### Results:"
   ]
  },
  {
   "attachments": {},
   "cell_type": "markdown",
   "metadata": {},
   "source": [
    "#### Display the release notes:"
   ]
  },
  {
   "cell_type": "code",
   "execution_count": null,
   "metadata": {},
   "outputs": [],
   "source": [
    "display_file(result_path)"
   ]
  },
  {
   "attachments": {},
   "cell_type": "markdown",
   "metadata": {},
   "source": [
    "#### Download files:"
   ]
  },
  {
   "attachments": {},
   "cell_type": "markdown",
   "metadata": {},
   "source": [
    "Download release notes file:"
   ]
  },
  {
   "cell_type": "code",
   "execution_count": null,
   "metadata": {},
   "outputs": [],
   "source": [
    "download(result_path)"
   ]
  },
  {
   "attachments": {},
   "cell_type": "markdown",
   "metadata": {},
   "source": [
    "Download release notes file as HTML:"
   ]
  },
  {
   "cell_type": "code",
   "execution_count": null,
   "metadata": {},
   "outputs": [],
   "source": [
    "html_path = to_html(result_path)\n",
    "download(html_path)"
   ]
  },
  {
   "attachments": {},
   "cell_type": "markdown",
   "metadata": {},
   "source": [
    "Download the log file:"
   ]
  },
  {
   "cell_type": "code",
   "execution_count": null,
   "metadata": {},
   "outputs": [],
   "source": [
    "download(log_path)"
   ]
  },
  {
   "attachments": {},
   "cell_type": "markdown",
   "metadata": {},
   "source": [
    "Download the log file as HTML:"
   ]
  },
  {
   "cell_type": "code",
   "execution_count": null,
   "metadata": {},
   "outputs": [],
   "source": [
    "html_path = to_html(log_path, suffix=\"_log\")\n",
    "download(html_path)"
   ]
  }
 ],
 "metadata": {
  "kernelspec": {
   "display_name": "Python 3.9.6 ('venv': venv)",
   "language": "python",
   "name": "python3"
  },
  "language_info": {
   "codemirror_mode": {
    "name": "ipython",
    "version": 3
   },
   "file_extension": ".py",
   "mimetype": "text/x-python",
   "name": "python",
   "nbconvert_exporter": "python",
   "pygments_lexer": "ipython3",
   "version": "3.9.6"
  },
  "orig_nbformat": 4,
  "vscode": {
   "interpreter": {
    "hash": "818d7900681a1fde08fe794c4b11c7ffd8d0ed8fa65505edbe28a2c1ebff1eee"
   }
  }
 },
 "nbformat": 4,
 "nbformat_minor": 2
}
